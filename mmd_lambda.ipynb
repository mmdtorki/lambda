{
 "cells": [
  {
   "cell_type": "markdown",
   "source": [
    "# lambda"
   ],
   "metadata": {
    "collapsed": false,
    "pycharm": {
     "name": "#%% md\n"
    }
   }
  },
  {
   "cell_type": "markdown",
   "source": [
    "## libraries"
   ],
   "metadata": {
    "collapsed": false,
    "pycharm": {
     "name": "#%% md\n"
    }
   }
  },
  {
   "cell_type": "code",
   "execution_count": 3,
   "outputs": [],
   "source": [
    "import pandas as pd\n",
    "from datetime import datetime"
   ],
   "metadata": {
    "collapsed": false,
    "pycharm": {
     "name": "#%%\n"
    }
   }
  },
  {
   "cell_type": "markdown",
   "source": [
    "## read_data"
   ],
   "metadata": {
    "collapsed": false,
    "pycharm": {
     "name": "#%% md\n"
    }
   }
  },
  {
   "cell_type": "code",
   "execution_count": 17,
   "outputs": [],
   "source": [
    "df = pd.read_csv('nobi ordb.csv')"
   ],
   "metadata": {
    "collapsed": false,
    "pycharm": {
     "name": "#%%\n"
    }
   }
  },
  {
   "cell_type": "code",
   "execution_count": 15,
   "outputs": [],
   "source": [
    "last_trade = pd.read_csv('nobi lastt.csv')"
   ],
   "metadata": {
    "collapsed": false,
    "pycharm": {
     "name": "#%%\n"
    }
   }
  },
  {
   "cell_type": "markdown",
   "source": [
    "## cleaning data"
   ],
   "metadata": {
    "collapsed": false,
    "pycharm": {
     "name": "#%% md\n"
    }
   }
  },
  {
   "cell_type": "code",
   "execution_count": null,
   "outputs": [],
   "source": [
    "df = df[df['symbol'] == 'SHIBIRT']\n",
    "df.drop(columns=['id', 'last_update', 'last_trade_price'], inplace=True)\n",
    "df['spread'] = df['ask_price'] - df['bid_price']\n",
    "df['request_time'] = pd.to_datetime(df['request_time'])\n",
    "df['response_time'] = pd.to_datetime(df['response_time'])\n",
    "df['time'] = (df['response_time'] - df['request_time']) / 2\n",
    "df['time'] = df['time'] + df['request_time']\n",
    "df['time'] = pd.to_datetime(df['time'])\n",
    "df.drop(columns=['request_time', 'response_time'], inplace=True)\n",
    "df['spread_shift'] = df['spread'].shift(-1)\n",
    "df['is_shift'] = df['spread'] - df['spread_shift']\n",
    "df_durataion = df[df['is_shift'] > 0]\n",
    "df_durataion['time_shift'] = df_durataion['time'].shift(-1)\n",
    "df_durataion['duration'] = df_durataion['time_shift'] - df_durataion['time']\n",
    "df_durataion = df_durataion.reset_index()\n",
    "del df_durataion['index']\n",
    "df_durataion"
   ],
   "metadata": {
    "collapsed": false,
    "pycharm": {
     "name": "#%%\n",
     "is_executing": true
    }
   }
  },
  {
   "cell_type": "code",
   "execution_count": null,
   "outputs": [],
   "source": [
    "last_trade = last_trade[last_trade['symbol'] == 'SHIBIRT']\n",
    "last_trade.drop(columns=['id'], inplace=True)\n",
    "last_trade = last_trade.reset_index()\n",
    "del last_trade['index']\n",
    "last_trade['time'] = pd.to_datetime(last_trade['time'] * 1000000)\n",
    "last_trade['time'] = pd.to_datetime(last_trade['time'], 'ms')\n",
    "last_trade"
   ],
   "metadata": {
    "collapsed": false,
    "pycharm": {
     "name": "#%%\n",
     "is_executing": true
    }
   }
  },
  {
   "cell_type": "code",
   "execution_count": null,
   "outputs": [],
   "source": [],
   "metadata": {
    "collapsed": false,
    "pycharm": {
     "name": "#%%\n"
    }
   }
  },
  {
   "cell_type": "code",
   "execution_count": null,
   "outputs": [],
   "source": [],
   "metadata": {
    "collapsed": false,
    "pycharm": {
     "name": "#%%\n"
    }
   }
  },
  {
   "cell_type": "markdown",
   "source": [
    "## time editing"
   ],
   "metadata": {
    "collapsed": false,
    "pycharm": {
     "name": "#%% md\n"
    }
   }
  },
  {
   "cell_type": "code",
   "execution_count": 4,
   "outputs": [
    {
     "data": {
      "text/plain": "   Unnamed: 0   symbol  bid_price  ask_price  bid_volume  ask_volume  spread  \\\n0          16  SHIBIRT       4473       4480       720.0     37969.0       7   \n1          44  SHIBIRT       4473       4477      5663.0    107841.0       4   \n2         118  SHIBIRT       4443       4460     11279.0     24879.0      17   \n3         125  SHIBIRT       4446       4460    122501.0     44879.0      14   \n4         139  SHIBIRT       4442       4460     18819.0    199194.0      18   \n\n                           time  spread_shift  is_shift  \\\n0 2022-08-18 15:46:29.664216000           3.0       4.0   \n1 2022-08-18 15:47:11.499975500           1.0       3.0   \n2 2022-08-18 15:52:06.628437500          14.0       3.0   \n3 2022-08-18 15:52:13.977714500           5.0       9.0   \n4 2022-08-18 15:52:32.434302000           8.0      10.0   \n\n                     time_shift                   duration  \n0 2022-08-18 15:47:11.499975500  0 days 00:00:41.835759500  \n1 2022-08-18 15:52:06.628437500     0 days 00:04:55.128462  \n2 2022-08-18 15:52:13.977714500     0 days 00:00:07.349277  \n3 2022-08-18 15:52:32.434302000  0 days 00:00:18.456587500  \n4 2022-08-18 15:54:40.348053500  0 days 00:02:07.913751500  ",
      "text/html": "<div>\n<style scoped>\n    .dataframe tbody tr th:only-of-type {\n        vertical-align: middle;\n    }\n\n    .dataframe tbody tr th {\n        vertical-align: top;\n    }\n\n    .dataframe thead th {\n        text-align: right;\n    }\n</style>\n<table border=\"1\" class=\"dataframe\">\n  <thead>\n    <tr style=\"text-align: right;\">\n      <th></th>\n      <th>Unnamed: 0</th>\n      <th>symbol</th>\n      <th>bid_price</th>\n      <th>ask_price</th>\n      <th>bid_volume</th>\n      <th>ask_volume</th>\n      <th>spread</th>\n      <th>time</th>\n      <th>spread_shift</th>\n      <th>is_shift</th>\n      <th>time_shift</th>\n      <th>duration</th>\n    </tr>\n  </thead>\n  <tbody>\n    <tr>\n      <th>0</th>\n      <td>16</td>\n      <td>SHIBIRT</td>\n      <td>4473</td>\n      <td>4480</td>\n      <td>720.0</td>\n      <td>37969.0</td>\n      <td>7</td>\n      <td>2022-08-18 15:46:29.664216000</td>\n      <td>3.0</td>\n      <td>4.0</td>\n      <td>2022-08-18 15:47:11.499975500</td>\n      <td>0 days 00:00:41.835759500</td>\n    </tr>\n    <tr>\n      <th>1</th>\n      <td>44</td>\n      <td>SHIBIRT</td>\n      <td>4473</td>\n      <td>4477</td>\n      <td>5663.0</td>\n      <td>107841.0</td>\n      <td>4</td>\n      <td>2022-08-18 15:47:11.499975500</td>\n      <td>1.0</td>\n      <td>3.0</td>\n      <td>2022-08-18 15:52:06.628437500</td>\n      <td>0 days 00:04:55.128462</td>\n    </tr>\n    <tr>\n      <th>2</th>\n      <td>118</td>\n      <td>SHIBIRT</td>\n      <td>4443</td>\n      <td>4460</td>\n      <td>11279.0</td>\n      <td>24879.0</td>\n      <td>17</td>\n      <td>2022-08-18 15:52:06.628437500</td>\n      <td>14.0</td>\n      <td>3.0</td>\n      <td>2022-08-18 15:52:13.977714500</td>\n      <td>0 days 00:00:07.349277</td>\n    </tr>\n    <tr>\n      <th>3</th>\n      <td>125</td>\n      <td>SHIBIRT</td>\n      <td>4446</td>\n      <td>4460</td>\n      <td>122501.0</td>\n      <td>44879.0</td>\n      <td>14</td>\n      <td>2022-08-18 15:52:13.977714500</td>\n      <td>5.0</td>\n      <td>9.0</td>\n      <td>2022-08-18 15:52:32.434302000</td>\n      <td>0 days 00:00:18.456587500</td>\n    </tr>\n    <tr>\n      <th>4</th>\n      <td>139</td>\n      <td>SHIBIRT</td>\n      <td>4442</td>\n      <td>4460</td>\n      <td>18819.0</td>\n      <td>199194.0</td>\n      <td>18</td>\n      <td>2022-08-18 15:52:32.434302000</td>\n      <td>8.0</td>\n      <td>10.0</td>\n      <td>2022-08-18 15:54:40.348053500</td>\n      <td>0 days 00:02:07.913751500</td>\n    </tr>\n  </tbody>\n</table>\n</div>"
     },
     "execution_count": 4,
     "metadata": {},
     "output_type": "execute_result"
    }
   ],
   "source": [
    "df_book = pd.read_csv('obi.csv')\n",
    "df_book['time_shift'] = pd.to_datetime(df_book['time_shift'])\n",
    "df_book['time'] =pd.to_datetime(df_book['time'])\n",
    "df_book['time'] = df_book['time'].dt.tz_localize(None)\n",
    "df_book['time_shift'] = df_book['time_shift'].dt.tz_localize(None)\n",
    "df_book.head()"
   ],
   "metadata": {
    "collapsed": false,
    "pycharm": {
     "name": "#%%\n"
    }
   }
  },
  {
   "cell_type": "code",
   "execution_count": 5,
   "outputs": [
    {
     "data": {
      "text/plain": "   Unnamed: 0   symbol  price  volume                    time type  \\\n0           0  SHIBIRT   4480     1.0 2022-08-18 15:46:18.091  buy   \n1           1  SHIBIRT   4477   780.0 2022-08-18 15:46:09.416  buy   \n2           2  SHIBIRT   4477     9.0 2022-08-18 15:45:37.974  buy   \n3           3  SHIBIRT   4477  2000.0 2022-08-18 15:45:33.331  buy   \n4           4  SHIBIRT   4477  1558.0 2022-08-18 15:45:31.707  buy   \n\n                       request_time                     response_time  \n0  2022-08-18 15:46:23.215135+04:30  2022-08-18 15:46:27.442528+04:30  \n1  2022-08-18 15:46:23.215135+04:30  2022-08-18 15:46:27.442528+04:30  \n2  2022-08-18 15:46:23.215135+04:30  2022-08-18 15:46:27.442528+04:30  \n3  2022-08-18 15:46:23.215135+04:30  2022-08-18 15:46:27.442528+04:30  \n4  2022-08-18 15:46:23.215135+04:30  2022-08-18 15:46:27.442528+04:30  ",
      "text/html": "<div>\n<style scoped>\n    .dataframe tbody tr th:only-of-type {\n        vertical-align: middle;\n    }\n\n    .dataframe tbody tr th {\n        vertical-align: top;\n    }\n\n    .dataframe thead th {\n        text-align: right;\n    }\n</style>\n<table border=\"1\" class=\"dataframe\">\n  <thead>\n    <tr style=\"text-align: right;\">\n      <th></th>\n      <th>Unnamed: 0</th>\n      <th>symbol</th>\n      <th>price</th>\n      <th>volume</th>\n      <th>time</th>\n      <th>type</th>\n      <th>request_time</th>\n      <th>response_time</th>\n    </tr>\n  </thead>\n  <tbody>\n    <tr>\n      <th>0</th>\n      <td>0</td>\n      <td>SHIBIRT</td>\n      <td>4480</td>\n      <td>1.0</td>\n      <td>2022-08-18 15:46:18.091</td>\n      <td>buy</td>\n      <td>2022-08-18 15:46:23.215135+04:30</td>\n      <td>2022-08-18 15:46:27.442528+04:30</td>\n    </tr>\n    <tr>\n      <th>1</th>\n      <td>1</td>\n      <td>SHIBIRT</td>\n      <td>4477</td>\n      <td>780.0</td>\n      <td>2022-08-18 15:46:09.416</td>\n      <td>buy</td>\n      <td>2022-08-18 15:46:23.215135+04:30</td>\n      <td>2022-08-18 15:46:27.442528+04:30</td>\n    </tr>\n    <tr>\n      <th>2</th>\n      <td>2</td>\n      <td>SHIBIRT</td>\n      <td>4477</td>\n      <td>9.0</td>\n      <td>2022-08-18 15:45:37.974</td>\n      <td>buy</td>\n      <td>2022-08-18 15:46:23.215135+04:30</td>\n      <td>2022-08-18 15:46:27.442528+04:30</td>\n    </tr>\n    <tr>\n      <th>3</th>\n      <td>3</td>\n      <td>SHIBIRT</td>\n      <td>4477</td>\n      <td>2000.0</td>\n      <td>2022-08-18 15:45:33.331</td>\n      <td>buy</td>\n      <td>2022-08-18 15:46:23.215135+04:30</td>\n      <td>2022-08-18 15:46:27.442528+04:30</td>\n    </tr>\n    <tr>\n      <th>4</th>\n      <td>4</td>\n      <td>SHIBIRT</td>\n      <td>4477</td>\n      <td>1558.0</td>\n      <td>2022-08-18 15:45:31.707</td>\n      <td>buy</td>\n      <td>2022-08-18 15:46:23.215135+04:30</td>\n      <td>2022-08-18 15:46:27.442528+04:30</td>\n    </tr>\n  </tbody>\n</table>\n</div>"
     },
     "execution_count": 5,
     "metadata": {},
     "output_type": "execute_result"
    }
   ],
   "source": [
    "time_delta = pd.to_timedelta(4.5,'hour')\n",
    "df_last = pd.read_csv('last1.csv')\n",
    "df_last['time'] = df_last['time'].apply(pd.Timestamp)\n",
    "df_last['time'] += time_delta\n",
    "df_last.head()"
   ],
   "metadata": {
    "collapsed": false,
    "pycharm": {
     "name": "#%%\n"
    }
   }
  },
  {
   "cell_type": "code",
   "execution_count": 1,
   "outputs": [],
   "source": [
    "a =5"
   ],
   "metadata": {
    "collapsed": false,
    "pycharm": {
     "name": "#%%\n"
    }
   }
  },
  {
   "cell_type": "markdown",
   "source": [
    "## market volume calc"
   ],
   "metadata": {
    "collapsed": false,
    "pycharm": {
     "name": "#%% md\n"
    }
   }
  },
  {
   "cell_type": "code",
   "execution_count": null,
   "outputs": [],
   "source": [
    "def N_calc(row):\n",
    "    start = row['time']\n",
    "    end = row['time_shift']\n",
    "    agregate_df = last_trade[last_trade['time'] >= start and last_trade['time'] < end]\n",
    "    vol = regate_df['volume'].sum()\n",
    "    return vol"
   ],
   "metadata": {
    "collapsed": false,
    "pycharm": {
     "name": "#%%\n"
    }
   }
  },
  {
   "cell_type": "code",
   "execution_count": null,
   "outputs": [],
   "source": [
    "#apply"
   ],
   "metadata": {
    "collapsed": false,
    "pycharm": {
     "name": "#%%\n"
    }
   }
  },
  {
   "cell_type": "code",
   "execution_count": null,
   "outputs": [],
   "source": [],
   "metadata": {
    "collapsed": false,
    "pycharm": {
     "name": "#%%\n"
    }
   }
  },
  {
   "cell_type": "markdown",
   "source": [
    "## N data frame"
   ],
   "metadata": {
    "collapsed": false,
    "pycharm": {
     "name": "#%% md\n"
    }
   }
  },
  {
   "cell_type": "code",
   "execution_count": null,
   "outputs": [],
   "source": [],
   "metadata": {
    "collapsed": false,
    "pycharm": {
     "name": "#%%\n"
    }
   }
  },
  {
   "cell_type": "code",
   "execution_count": null,
   "outputs": [],
   "source": [],
   "metadata": {
    "collapsed": false,
    "pycharm": {
     "name": "#%%\n"
    }
   }
  },
  {
   "cell_type": "code",
   "execution_count": null,
   "outputs": [],
   "source": [],
   "metadata": {
    "collapsed": false,
    "pycharm": {
     "name": "#%%\n"
    }
   }
  },
  {
   "cell_type": "markdown",
   "source": [
    "## landa calc"
   ],
   "metadata": {
    "collapsed": false,
    "pycharm": {
     "name": "#%% md\n"
    }
   }
  },
  {
   "cell_type": "code",
   "execution_count": null,
   "outputs": [],
   "source": [],
   "metadata": {
    "collapsed": false,
    "pycharm": {
     "name": "#%%\n"
    }
   }
  },
  {
   "cell_type": "code",
   "execution_count": null,
   "outputs": [],
   "source": [],
   "metadata": {
    "collapsed": false,
    "pycharm": {
     "name": "#%%\n"
    }
   }
  },
  {
   "cell_type": "code",
   "execution_count": null,
   "outputs": [],
   "source": [],
   "metadata": {
    "collapsed": false,
    "pycharm": {
     "name": "#%%\n"
    }
   }
  },
  {
   "cell_type": "code",
   "execution_count": null,
   "outputs": [],
   "source": [],
   "metadata": {
    "collapsed": false,
    "pycharm": {
     "name": "#%%\n"
    }
   }
  },
  {
   "cell_type": "markdown",
   "source": [
    "# test\n"
   ],
   "metadata": {
    "collapsed": false,
    "pycharm": {
     "name": "#%% md\n"
    }
   }
  },
  {
   "cell_type": "code",
   "execution_count": null,
   "outputs": [],
   "source": [],
   "metadata": {
    "collapsed": false,
    "pycharm": {
     "name": "#%%\n"
    }
   }
  },
  {
   "cell_type": "code",
   "execution_count": null,
   "outputs": [],
   "source": [],
   "metadata": {
    "collapsed": false,
    "pycharm": {
     "name": "#%%\n"
    }
   }
  },
  {
   "cell_type": "code",
   "execution_count": null,
   "outputs": [],
   "source": [],
   "metadata": {
    "collapsed": false,
    "pycharm": {
     "name": "#%%\n"
    }
   }
  },
  {
   "cell_type": "code",
   "execution_count": null,
   "outputs": [],
   "source": [],
   "metadata": {
    "collapsed": false,
    "pycharm": {
     "name": "#%%\n"
    }
   }
  },
  {
   "cell_type": "code",
   "execution_count": null,
   "outputs": [],
   "source": [],
   "metadata": {
    "collapsed": false,
    "pycharm": {
     "name": "#%%\n"
    }
   }
  }
 ],
 "metadata": {
  "kernelspec": {
   "display_name": "Python 3",
   "language": "python",
   "name": "python3"
  },
  "language_info": {
   "codemirror_mode": {
    "name": "ipython",
    "version": 2
   },
   "file_extension": ".py",
   "mimetype": "text/x-python",
   "name": "python",
   "nbconvert_exporter": "python",
   "pygments_lexer": "ipython2",
   "version": "2.7.6"
  }
 },
 "nbformat": 4,
 "nbformat_minor": 0
}